{
 "cells": [
  {
   "cell_type": "code",
   "execution_count": 12,
   "metadata": {},
   "outputs": [],
   "source": [
    "import warnings\n",
    "warnings.filterwarnings('ignore')"
   ]
  },
  {
   "cell_type": "code",
   "execution_count": 17,
   "metadata": {},
   "outputs": [
    {
     "name": "stdout",
     "output_type": "stream",
     "text": [
      "Downloading models...\n",
      "Done!\n"
     ]
    }
   ],
   "source": [
    "from transformers import AutoModelForCausalLM, AutoTokenizer\n",
    "\n",
    "print(\"Downloading models...\")\n",
    "#Model: DialoGPT - small\n",
    "tokenizer_dialoGPT_small = AutoTokenizer.from_pretrained(\"microsoft/DialoGPT-small\")\n",
    "model_dialoGPT_small = AutoModelForCausalLM.from_pretrained(\"microsoft/DialoGPT-small\")\n",
    "print(\"Done!\")"
   ]
  },
  {
   "cell_type": "code",
   "execution_count": 19,
   "metadata": {},
   "outputs": [],
   "source": [
    "def generator_dialo_gpt_small(user_input, number_of_candidates):\n",
    "    # get input\n",
    "    user_input = user_input\n",
    "    number_of_candidates = number_of_candidates\n",
    "    input = tokenizer_dialoGPT_small.encode(user_input, tokenizer_dialoGPT_small.eos_token, return_tensors='pt')\n",
    "    \n",
    "    number_of_candidates = int(number_of_candidates)\n",
    "\n",
    "    beam_outputs = model_dialoGPT_small.generate(\n",
    "        input,\n",
    "        max_length=60,\n",
    "        num_beams=number_of_candidates,\n",
    "        no_repeat_ngram_size=2,\n",
    "        num_return_sequences=number_of_candidates,\n",
    "        early_stopping=True\n",
    "    )\n",
    "    #print(beam_outputs)\n",
    "\n",
    "    beam_output = []\n",
    "    for step in range(number_of_candidates):\n",
    "        m = format(tokenizer_dialoGPT_small.decode(beam_outputs[:, input.shape[-1]:][step], skip_special_tokens=True))\n",
    "        beam_output.append(m)\n",
    "\n",
    "    return beam_output"
   ]
  },
  {
   "cell_type": "code",
   "execution_count": 22,
   "metadata": {},
   "outputs": [
    {
     "name": "stderr",
     "output_type": "stream",
     "text": [
      "Setting `pad_token_id` to `eos_token_id`:50256 for open-end generation.\n"
     ]
    }
   ],
   "source": [
    "candidate = generator_dialo_gpt_small(\"Where did you go?\", 3)"
   ]
  },
  {
   "cell_type": "code",
   "execution_count": 23,
   "metadata": {},
   "outputs": [
    {
     "data": {
      "text/plain": [
       "['I went to school with him.',\n",
       " \"I went to school with him. He's a great guy.\",\n",
       " \"I'm going to the game tonight!\"]"
      ]
     },
     "execution_count": 23,
     "metadata": {},
     "output_type": "execute_result"
    }
   ],
   "source": [
    "candidate"
   ]
  },
  {
   "cell_type": "code",
   "execution_count": 13,
   "metadata": {},
   "outputs": [],
   "source": [
    "from transformers import pipeline\n",
    "fill_mask = pipeline(\"fill-mask\")"
   ]
  },
  {
   "cell_type": "code",
   "execution_count": 21,
   "metadata": {},
   "outputs": [
    {
     "data": {
      "text/plain": [
       "[{'sequence': \"I'm going to the movies tonight!\",\n",
       "  'score': 0.13211850821971893,\n",
       "  'token': 4133,\n",
       "  'token_str': ' movies'},\n",
       " {'sequence': \"I'm going to the gym tonight!\",\n",
       "  'score': 0.12617048621177673,\n",
       "  'token': 6545,\n",
       "  'token_str': ' gym'},\n",
       " {'sequence': \"I'm going to the beach tonight!\",\n",
       "  'score': 0.05755433440208435,\n",
       "  'token': 4105,\n",
       "  'token_str': ' beach'},\n",
       " {'sequence': \"I'm going to the pub tonight!\",\n",
       "  'score': 0.04060250148177147,\n",
       "  'token': 8881,\n",
       "  'token_str': ' pub'},\n",
       " {'sequence': \"I'm going to the dentist tonight!\",\n",
       "  'score': 0.026756728067994118,\n",
       "  'token': 26565,\n",
       "  'token_str': ' dentist'}]"
      ]
     },
     "execution_count": 21,
     "metadata": {},
     "output_type": "execute_result"
    }
   ],
   "source": [
    "fill_mask(\"I'm going to the <mask> tonight!\")"
   ]
  },
  {
   "cell_type": "code",
   "execution_count": 25,
   "metadata": {},
   "outputs": [
    {
     "data": {
      "text/plain": [
       "[{'sequence': 'He went to school with him.',\n",
       "  'score': 0.05413985252380371,\n",
       "  'token': 894,\n",
       "  'token_str': 'He'},\n",
       " {'sequence': 'She went to school with him.',\n",
       "  'score': 0.05307877063751221,\n",
       "  'token': 2515,\n",
       "  'token_str': 'She'},\n",
       " {'sequence': 'I went to school with him.',\n",
       "  'score': 0.020075924694538116,\n",
       "  'token': 100,\n",
       "  'token_str': 'I'},\n",
       " {'sequence': ' never went to school with him.',\n",
       "  'score': 0.012867623008787632,\n",
       "  'token': 393,\n",
       "  'token_str': ' never'},\n",
       " {'sequence': ' he went to school with him.',\n",
       "  'score': 0.012693972326815128,\n",
       "  'token': 37,\n",
       "  'token_str': ' he'}]"
      ]
     },
     "execution_count": 25,
     "metadata": {},
     "output_type": "execute_result"
    }
   ],
   "source": [
    "fill_mask(\"<mask> went to school with him.\")"
   ]
  },
  {
   "cell_type": "code",
   "execution_count": 35,
   "metadata": {},
   "outputs": [],
   "source": [
    "mask = fill_mask(\"I went to school with him. He's a <mask> guy.\")"
   ]
  },
  {
   "cell_type": "code",
   "execution_count": 39,
   "metadata": {},
   "outputs": [
    {
     "name": "stdout",
     "output_type": "stream",
     "text": [
      " nice\n",
      " funny\n",
      " good\n",
      " great\n",
      " wonderful\n"
     ]
    }
   ],
   "source": [
    "for tokens in mask:\n",
    "    print(tokens['token_str'])"
   ]
  },
  {
   "cell_type": "code",
   "execution_count": null,
   "metadata": {},
   "outputs": [],
   "source": []
  }
 ],
 "metadata": {
  "kernelspec": {
   "display_name": "chat",
   "language": "python",
   "name": "chat"
  },
  "language_info": {
   "codemirror_mode": {
    "name": "ipython",
    "version": 3
   },
   "file_extension": ".py",
   "mimetype": "text/x-python",
   "name": "python",
   "nbconvert_exporter": "python",
   "pygments_lexer": "ipython3",
   "version": "3.8.8"
  }
 },
 "nbformat": 4,
 "nbformat_minor": 4
}
